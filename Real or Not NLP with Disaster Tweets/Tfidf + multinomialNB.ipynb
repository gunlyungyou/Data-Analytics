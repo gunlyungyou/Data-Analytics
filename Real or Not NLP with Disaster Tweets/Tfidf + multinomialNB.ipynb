{
 "cells": [
  {
   "cell_type": "code",
   "execution_count": 29,
   "metadata": {},
   "outputs": [
    {
     "name": "stderr",
     "output_type": "stream",
     "text": [
      "[nltk_data] Downloading package punkt to\n",
      "[nltk_data]     C:\\Users\\ASUS\\AppData\\Roaming\\nltk_data...\n",
      "[nltk_data]   Unzipping tokenizers\\punkt.zip.\n"
     ]
    },
    {
     "data": {
      "text/plain": [
       "True"
      ]
     },
     "execution_count": 29,
     "metadata": {},
     "output_type": "execute_result"
    }
   ],
   "source": [
    "from glob import glob\n",
    "import pandas as pd\n",
    "\n",
    "from sklearn.naive_bayes import MultinomialNB\n",
    "\n",
    "from nltk import word_tokenize, RegexpTokenizer, TweetTokenizer\n",
    "\n",
    "from sklearn.metrics import classification_report\n",
    "from sklearn.model_selection import train_test_split\n",
    "from sklearn.feature_extraction.text import CountVectorizer, TfidfTransformer\n",
    "from sklearn.pipeline import Pipeline\n",
    "import nltk\n",
    "nltk.download('punkt')"
   ]
  },
  {
   "cell_type": "markdown",
   "metadata": {},
   "source": [
    "# 데이터 불러오기"
   ]
  },
  {
   "cell_type": "code",
   "execution_count": 14,
   "metadata": {},
   "outputs": [],
   "source": [
    "train = pd.read_csv('C:/Users/ASUS/Documents/kaggle data/Real or Not NLP with Disaster Tweets/nlp-getting-started/train.csv')\n",
    "train = train[['text','target']]\n",
    "test = pd.read_csv('C:/Users/ASUS/Documents/kaggle data/Real or Not NLP with Disaster Tweets/nlp-getting-started/test.csv')"
   ]
  },
  {
   "cell_type": "markdown",
   "metadata": {},
   "source": [
    "# preprocessing"
   ]
  },
  {
   "cell_type": "code",
   "execution_count": 17,
   "metadata": {},
   "outputs": [],
   "source": [
    "#정규표현식을 이용해서 토큰화를 이용해서 .제거\n",
    "def removing_punctuations(text):\n",
    "    tokenizer_dots = RegexpTokenizer(r'\\w+')\n",
    "    return \" \".join(tokenizer_dots.tokenize(text))\n",
    "\n",
    "#소문자로 바꾸고 . 제거하는 함수\n",
    "def cleanner(df):\n",
    "    tmp = df.copy()\n",
    "    tmp.text = df.text.apply(lambda x: x.lower())        \n",
    "    tmp.text = df.text.apply(lambda x: removing_punctuations(x))\n",
    "    return tmp\n",
    "\n",
    "train.text = cleanner(train)"
   ]
  },
  {
   "cell_type": "markdown",
   "metadata": {},
   "source": [
    "# validation data split"
   ]
  },
  {
   "cell_type": "code",
   "execution_count": 23,
   "metadata": {},
   "outputs": [],
   "source": [
    "x_train, x_text, y_train, y_test = train_test_split(train.text, train.target.values, test_size = 0.3)"
   ]
  },
  {
   "cell_type": "markdown",
   "metadata": {},
   "source": [
    "# model"
   ]
  },
  {
   "cell_type": "code",
   "execution_count": 30,
   "metadata": {},
   "outputs": [],
   "source": [
    "def make_model(clf):\n",
    "    \n",
    "    pipe_clf = Pipeline(\n",
    "        [('vect', CountVectorizer(analyzer='word', stop_words='english', tokenizer=word_tokenize)),\n",
    "         ('tfidf', TfidfTransformer()),\n",
    "         ('clf', clf),\n",
    "        ]\n",
    "    )\n",
    "\n",
    "    pipe_clf = pipe_clf.fit(x_train, y_train)\n",
    "    y_preds = pipe_clf.predict(x_text)\n",
    "\n",
    "    print(classification_report(y_test, y_preds))\n",
    "    \n",
    "    return pipe_clf"
   ]
  },
  {
   "cell_type": "code",
   "execution_count": 31,
   "metadata": {},
   "outputs": [
    {
     "name": "stdout",
     "output_type": "stream",
     "text": [
      "              precision    recall  f1-score   support\n",
      "\n",
      "           0       0.80      0.90      0.84      1337\n",
      "           1       0.82      0.68      0.74       947\n",
      "\n",
      "    accuracy                           0.81      2284\n",
      "   macro avg       0.81      0.79      0.79      2284\n",
      "weighted avg       0.81      0.81      0.80      2284\n",
      "\n"
     ]
    }
   ],
   "source": [
    "#validation accuracy\n",
    "pipe_clf = make_model(MultinomialNB())"
   ]
  },
  {
   "cell_type": "markdown",
   "metadata": {},
   "source": [
    "# submission"
   ]
  },
  {
   "cell_type": "code",
   "execution_count": 34,
   "metadata": {},
   "outputs": [],
   "source": [
    "clf = pipe_clf.fit(train.text, train.target)\n",
    "y_preds = clf.predict(test.text)\n",
    "submission = pd.read_csv('C:/Users/ASUS/Documents/kaggle data/Real or Not NLP with Disaster Tweets/nlp-getting-started/sample_submission.csv')\n",
    "submission.target = y_preds\n",
    "submission.to_csv('C:/Users/ASUS/Documents/kaggle data/Real or Not NLP with Disaster Tweets/nlp-getting-started/submission.csv', index = False)"
   ]
  }
 ],
 "metadata": {
  "kernelspec": {
   "display_name": "Python 3",
   "language": "python",
   "name": "python3"
  },
  "language_info": {
   "codemirror_mode": {
    "name": "ipython",
    "version": 3
   },
   "file_extension": ".py",
   "mimetype": "text/x-python",
   "name": "python",
   "nbconvert_exporter": "python",
   "pygments_lexer": "ipython3",
   "version": "3.6.5"
  }
 },
 "nbformat": 4,
 "nbformat_minor": 2
}
